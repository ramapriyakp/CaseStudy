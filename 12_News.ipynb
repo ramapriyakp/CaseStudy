{
  "nbformat": 4,
  "nbformat_minor": 0,
  "metadata": {
    "colab": {
      "provenance": []
    },
    "kernelspec": {
      "name": "python3",
      "display_name": "Python 3"
    },
    "language_info": {
      "name": "python"
    }
  },
  "cells": [
    {
      "cell_type": "markdown",
      "source": [
        "# NLP: News\n",
        "\n",
        "News aims to revolutionize the\n",
        "way Indians perceive finance, business, and capital market\n",
        "investment, by giving it a boost through artificial intelligence (AI) and\n",
        "machine learning (ML). The goal of this project is to use a bunch of news articles extracted\n",
        "from the companies’ internal database and categorize them into\n",
        "several categories like politics, technology, sports, business and\n",
        "entertainment based on their content."
      ],
      "metadata": {
        "id": "9HOGjPNvZ2Jh"
      }
    },
    {
      "cell_type": "markdown",
      "source": [
        "# 1.0 Import Data & Explore Characteristic"
      ],
      "metadata": {
        "id": "yCkPfn3zalNs"
      }
    },
    {
      "cell_type": "code",
      "source": [
        "from google.colab import drive\n",
        "drive.mount('/content/drive')"
      ],
      "metadata": {
        "colab": {
          "base_uri": "https://localhost:8080/"
        },
        "id": "wS1mdslFa2MM",
        "outputId": "e59a62ce-abb9-49ef-b625-f852967be240"
      },
      "execution_count": null,
      "outputs": [
        {
          "output_type": "stream",
          "name": "stdout",
          "text": [
            "Drive already mounted at /content/drive; to attempt to forcibly remount, call drive.mount(\"/content/drive\", force_remount=True).\n"
          ]
        }
      ]
    },
    {
      "cell_type": "code",
      "source": [
        "cd /content/drive/MyDrive/flip"
      ],
      "metadata": {
        "colab": {
          "base_uri": "https://localhost:8080/"
        },
        "id": "ThnbRJr3a7KL",
        "outputId": "3ec9d394-67de-4532-a513-f533d5b63237"
      },
      "execution_count": null,
      "outputs": [
        {
          "output_type": "stream",
          "name": "stdout",
          "text": [
            "/content/drive/MyDrive/flip\n"
          ]
        }
      ]
    },
    {
      "cell_type": "code",
      "source": [
        "import numpy as np\n",
        "import pandas as pd\n",
        "import re\n",
        "import string\n",
        "\n",
        "from sklearn import preprocessing\n",
        "from sklearn.feature_extraction.text import CountVectorizer,TfidfVectorizer\n",
        "from sklearn.model_selection import train_test_split\n",
        "from sklearn.pipeline import Pipeline\n",
        "from sklearn.naive_bayes import MultinomialNB\n",
        "from sklearn.neighbors import KNeighborsClassifier\n",
        "from sklearn.tree import DecisionTreeClassifier\n",
        "from sklearn.ensemble import RandomForestClassifier\n",
        "from sklearn import metrics\n",
        "\n",
        "import nltk\n",
        "from nltk.corpus import stopwords\n",
        "from nltk.stem import WordNetLemmatizer\n",
        "nltk.download('stopwords')\n",
        "nltk.download('wordnet')\n",
        "nltk.download('punkt')"
      ],
      "metadata": {
        "id": "M4ufiH9ZbThB",
        "colab": {
          "base_uri": "https://localhost:8080/"
        },
        "outputId": "4186008e-38db-4a16-cd95-e70d052f7193"
      },
      "execution_count": null,
      "outputs": [
        {
          "output_type": "stream",
          "name": "stderr",
          "text": [
            "[nltk_data] Downloading package stopwords to /root/nltk_data...\n",
            "[nltk_data]   Package stopwords is already up-to-date!\n",
            "[nltk_data] Downloading package wordnet to /root/nltk_data...\n",
            "[nltk_data]   Package wordnet is already up-to-date!\n",
            "[nltk_data] Downloading package punkt to /root/nltk_data...\n",
            "[nltk_data]   Package punkt is already up-to-date!\n"
          ]
        },
        {
          "output_type": "execute_result",
          "data": {
            "text/plain": [
              "True"
            ]
          },
          "metadata": {},
          "execution_count": 4
        }
      ]
    },
    {
      "cell_type": "code",
      "source": [
        "df= pd.read_csv(\"News-data.csv\")\n",
        "df.head()"
      ],
      "metadata": {
        "colab": {
          "base_uri": "https://localhost:8080/",
          "height": 206
        },
        "id": "OeljgkBRbYq0",
        "outputId": "6cb64afc-676f-45df-ed59-16e146cec3cb"
      },
      "execution_count": null,
      "outputs": [
        {
          "output_type": "execute_result",
          "data": {
            "text/plain": [
              "        Category                                            Article\n",
              "0     Technology  tv future in the hands of viewers with home th...\n",
              "1       Business  worldcom boss  left books alone  former worldc...\n",
              "2         Sports  tigers wary of farrell  gamble  leicester say ...\n",
              "3         Sports  yeading face newcastle in fa cup premiership s...\n",
              "4  Entertainment  ocean s twelve raids box office ocean s twelve..."
            ],
            "text/html": [
              "\n",
              "  <div id=\"df-761791ad-23fc-40e2-a596-1e71eb63ec50\" class=\"colab-df-container\">\n",
              "    <div>\n",
              "<style scoped>\n",
              "    .dataframe tbody tr th:only-of-type {\n",
              "        vertical-align: middle;\n",
              "    }\n",
              "\n",
              "    .dataframe tbody tr th {\n",
              "        vertical-align: top;\n",
              "    }\n",
              "\n",
              "    .dataframe thead th {\n",
              "        text-align: right;\n",
              "    }\n",
              "</style>\n",
              "<table border=\"1\" class=\"dataframe\">\n",
              "  <thead>\n",
              "    <tr style=\"text-align: right;\">\n",
              "      <th></th>\n",
              "      <th>Category</th>\n",
              "      <th>Article</th>\n",
              "    </tr>\n",
              "  </thead>\n",
              "  <tbody>\n",
              "    <tr>\n",
              "      <th>0</th>\n",
              "      <td>Technology</td>\n",
              "      <td>tv future in the hands of viewers with home th...</td>\n",
              "    </tr>\n",
              "    <tr>\n",
              "      <th>1</th>\n",
              "      <td>Business</td>\n",
              "      <td>worldcom boss  left books alone  former worldc...</td>\n",
              "    </tr>\n",
              "    <tr>\n",
              "      <th>2</th>\n",
              "      <td>Sports</td>\n",
              "      <td>tigers wary of farrell  gamble  leicester say ...</td>\n",
              "    </tr>\n",
              "    <tr>\n",
              "      <th>3</th>\n",
              "      <td>Sports</td>\n",
              "      <td>yeading face newcastle in fa cup premiership s...</td>\n",
              "    </tr>\n",
              "    <tr>\n",
              "      <th>4</th>\n",
              "      <td>Entertainment</td>\n",
              "      <td>ocean s twelve raids box office ocean s twelve...</td>\n",
              "    </tr>\n",
              "  </tbody>\n",
              "</table>\n",
              "</div>\n",
              "    <div class=\"colab-df-buttons\">\n",
              "\n",
              "  <div class=\"colab-df-container\">\n",
              "    <button class=\"colab-df-convert\" onclick=\"convertToInteractive('df-761791ad-23fc-40e2-a596-1e71eb63ec50')\"\n",
              "            title=\"Convert this dataframe to an interactive table.\"\n",
              "            style=\"display:none;\">\n",
              "\n",
              "  <svg xmlns=\"http://www.w3.org/2000/svg\" height=\"24px\" viewBox=\"0 -960 960 960\">\n",
              "    <path d=\"M120-120v-720h720v720H120Zm60-500h600v-160H180v160Zm220 220h160v-160H400v160Zm0 220h160v-160H400v160ZM180-400h160v-160H180v160Zm440 0h160v-160H620v160ZM180-180h160v-160H180v160Zm440 0h160v-160H620v160Z\"/>\n",
              "  </svg>\n",
              "    </button>\n",
              "\n",
              "  <style>\n",
              "    .colab-df-container {\n",
              "      display:flex;\n",
              "      gap: 12px;\n",
              "    }\n",
              "\n",
              "    .colab-df-convert {\n",
              "      background-color: #E8F0FE;\n",
              "      border: none;\n",
              "      border-radius: 50%;\n",
              "      cursor: pointer;\n",
              "      display: none;\n",
              "      fill: #1967D2;\n",
              "      height: 32px;\n",
              "      padding: 0 0 0 0;\n",
              "      width: 32px;\n",
              "    }\n",
              "\n",
              "    .colab-df-convert:hover {\n",
              "      background-color: #E2EBFA;\n",
              "      box-shadow: 0px 1px 2px rgba(60, 64, 67, 0.3), 0px 1px 3px 1px rgba(60, 64, 67, 0.15);\n",
              "      fill: #174EA6;\n",
              "    }\n",
              "\n",
              "    .colab-df-buttons div {\n",
              "      margin-bottom: 4px;\n",
              "    }\n",
              "\n",
              "    [theme=dark] .colab-df-convert {\n",
              "      background-color: #3B4455;\n",
              "      fill: #D2E3FC;\n",
              "    }\n",
              "\n",
              "    [theme=dark] .colab-df-convert:hover {\n",
              "      background-color: #434B5C;\n",
              "      box-shadow: 0px 1px 3px 1px rgba(0, 0, 0, 0.15);\n",
              "      filter: drop-shadow(0px 1px 2px rgba(0, 0, 0, 0.3));\n",
              "      fill: #FFFFFF;\n",
              "    }\n",
              "  </style>\n",
              "\n",
              "    <script>\n",
              "      const buttonEl =\n",
              "        document.querySelector('#df-761791ad-23fc-40e2-a596-1e71eb63ec50 button.colab-df-convert');\n",
              "      buttonEl.style.display =\n",
              "        google.colab.kernel.accessAllowed ? 'block' : 'none';\n",
              "\n",
              "      async function convertToInteractive(key) {\n",
              "        const element = document.querySelector('#df-761791ad-23fc-40e2-a596-1e71eb63ec50');\n",
              "        const dataTable =\n",
              "          await google.colab.kernel.invokeFunction('convertToInteractive',\n",
              "                                                    [key], {});\n",
              "        if (!dataTable) return;\n",
              "\n",
              "        const docLinkHtml = 'Like what you see? Visit the ' +\n",
              "          '<a target=\"_blank\" href=https://colab.research.google.com/notebooks/data_table.ipynb>data table notebook</a>'\n",
              "          + ' to learn more about interactive tables.';\n",
              "        element.innerHTML = '';\n",
              "        dataTable['output_type'] = 'display_data';\n",
              "        await google.colab.output.renderOutput(dataTable, element);\n",
              "        const docLink = document.createElement('div');\n",
              "        docLink.innerHTML = docLinkHtml;\n",
              "        element.appendChild(docLink);\n",
              "      }\n",
              "    </script>\n",
              "  </div>\n",
              "\n",
              "\n",
              "<div id=\"df-10ff8aac-fe75-4e0b-8967-729a240d3f1c\">\n",
              "  <button class=\"colab-df-quickchart\" onclick=\"quickchart('df-10ff8aac-fe75-4e0b-8967-729a240d3f1c')\"\n",
              "            title=\"Suggest charts.\"\n",
              "            style=\"display:none;\">\n",
              "\n",
              "<svg xmlns=\"http://www.w3.org/2000/svg\" height=\"24px\"viewBox=\"0 0 24 24\"\n",
              "     width=\"24px\">\n",
              "    <g>\n",
              "        <path d=\"M19 3H5c-1.1 0-2 .9-2 2v14c0 1.1.9 2 2 2h14c1.1 0 2-.9 2-2V5c0-1.1-.9-2-2-2zM9 17H7v-7h2v7zm4 0h-2V7h2v10zm4 0h-2v-4h2v4z\"/>\n",
              "    </g>\n",
              "</svg>\n",
              "  </button>\n",
              "\n",
              "<style>\n",
              "  .colab-df-quickchart {\n",
              "      --bg-color: #E8F0FE;\n",
              "      --fill-color: #1967D2;\n",
              "      --hover-bg-color: #E2EBFA;\n",
              "      --hover-fill-color: #174EA6;\n",
              "      --disabled-fill-color: #AAA;\n",
              "      --disabled-bg-color: #DDD;\n",
              "  }\n",
              "\n",
              "  [theme=dark] .colab-df-quickchart {\n",
              "      --bg-color: #3B4455;\n",
              "      --fill-color: #D2E3FC;\n",
              "      --hover-bg-color: #434B5C;\n",
              "      --hover-fill-color: #FFFFFF;\n",
              "      --disabled-bg-color: #3B4455;\n",
              "      --disabled-fill-color: #666;\n",
              "  }\n",
              "\n",
              "  .colab-df-quickchart {\n",
              "    background-color: var(--bg-color);\n",
              "    border: none;\n",
              "    border-radius: 50%;\n",
              "    cursor: pointer;\n",
              "    display: none;\n",
              "    fill: var(--fill-color);\n",
              "    height: 32px;\n",
              "    padding: 0;\n",
              "    width: 32px;\n",
              "  }\n",
              "\n",
              "  .colab-df-quickchart:hover {\n",
              "    background-color: var(--hover-bg-color);\n",
              "    box-shadow: 0 1px 2px rgba(60, 64, 67, 0.3), 0 1px 3px 1px rgba(60, 64, 67, 0.15);\n",
              "    fill: var(--button-hover-fill-color);\n",
              "  }\n",
              "\n",
              "  .colab-df-quickchart-complete:disabled,\n",
              "  .colab-df-quickchart-complete:disabled:hover {\n",
              "    background-color: var(--disabled-bg-color);\n",
              "    fill: var(--disabled-fill-color);\n",
              "    box-shadow: none;\n",
              "  }\n",
              "\n",
              "  .colab-df-spinner {\n",
              "    border: 2px solid var(--fill-color);\n",
              "    border-color: transparent;\n",
              "    border-bottom-color: var(--fill-color);\n",
              "    animation:\n",
              "      spin 1s steps(1) infinite;\n",
              "  }\n",
              "\n",
              "  @keyframes spin {\n",
              "    0% {\n",
              "      border-color: transparent;\n",
              "      border-bottom-color: var(--fill-color);\n",
              "      border-left-color: var(--fill-color);\n",
              "    }\n",
              "    20% {\n",
              "      border-color: transparent;\n",
              "      border-left-color: var(--fill-color);\n",
              "      border-top-color: var(--fill-color);\n",
              "    }\n",
              "    30% {\n",
              "      border-color: transparent;\n",
              "      border-left-color: var(--fill-color);\n",
              "      border-top-color: var(--fill-color);\n",
              "      border-right-color: var(--fill-color);\n",
              "    }\n",
              "    40% {\n",
              "      border-color: transparent;\n",
              "      border-right-color: var(--fill-color);\n",
              "      border-top-color: var(--fill-color);\n",
              "    }\n",
              "    60% {\n",
              "      border-color: transparent;\n",
              "      border-right-color: var(--fill-color);\n",
              "    }\n",
              "    80% {\n",
              "      border-color: transparent;\n",
              "      border-right-color: var(--fill-color);\n",
              "      border-bottom-color: var(--fill-color);\n",
              "    }\n",
              "    90% {\n",
              "      border-color: transparent;\n",
              "      border-bottom-color: var(--fill-color);\n",
              "    }\n",
              "  }\n",
              "</style>\n",
              "\n",
              "  <script>\n",
              "    async function quickchart(key) {\n",
              "      const quickchartButtonEl =\n",
              "        document.querySelector('#' + key + ' button');\n",
              "      quickchartButtonEl.disabled = true;  // To prevent multiple clicks.\n",
              "      quickchartButtonEl.classList.add('colab-df-spinner');\n",
              "      try {\n",
              "        const charts = await google.colab.kernel.invokeFunction(\n",
              "            'suggestCharts', [key], {});\n",
              "      } catch (error) {\n",
              "        console.error('Error during call to suggestCharts:', error);\n",
              "      }\n",
              "      quickchartButtonEl.classList.remove('colab-df-spinner');\n",
              "      quickchartButtonEl.classList.add('colab-df-quickchart-complete');\n",
              "    }\n",
              "    (() => {\n",
              "      let quickchartButtonEl =\n",
              "        document.querySelector('#df-10ff8aac-fe75-4e0b-8967-729a240d3f1c button');\n",
              "      quickchartButtonEl.style.display =\n",
              "        google.colab.kernel.accessAllowed ? 'block' : 'none';\n",
              "    })();\n",
              "  </script>\n",
              "</div>\n",
              "    </div>\n",
              "  </div>\n"
            ]
          },
          "metadata": {},
          "execution_count": 5
        }
      ]
    },
    {
      "cell_type": "markdown",
      "source": [
        "# 2.0 Exploratory Data Analysis"
      ],
      "metadata": {
        "id": "409vNyAegMsc"
      }
    },
    {
      "cell_type": "code",
      "source": [
        "#Shape of the dataset\n",
        "df.info()"
      ],
      "metadata": {
        "colab": {
          "base_uri": "https://localhost:8080/"
        },
        "id": "0KOFD2mFbjnd",
        "outputId": "585b2e6c-7ba1-45c3-cdb4-a69df9f1e779"
      },
      "execution_count": null,
      "outputs": [
        {
          "output_type": "stream",
          "name": "stdout",
          "text": [
            "<class 'pandas.core.frame.DataFrame'>\n",
            "RangeIndex: 2225 entries, 0 to 2224\n",
            "Data columns (total 2 columns):\n",
            " #   Column    Non-Null Count  Dtype \n",
            "---  ------    --------------  ----- \n",
            " 0   Category  2225 non-null   object\n",
            " 1   Article   2225 non-null   object\n",
            "dtypes: object(2)\n",
            "memory usage: 34.9+ KB\n"
          ]
        }
      ]
    },
    {
      "cell_type": "code",
      "source": [
        "df.shape"
      ],
      "metadata": {
        "colab": {
          "base_uri": "https://localhost:8080/"
        },
        "id": "lgUNet04qQ3a",
        "outputId": "cf9da6de-9f4d-4f74-a860-0740b5d8c91b"
      },
      "execution_count": null,
      "outputs": [
        {
          "output_type": "execute_result",
          "data": {
            "text/plain": [
              "(2225, 2)"
            ]
          },
          "metadata": {},
          "execution_count": 7
        }
      ]
    },
    {
      "cell_type": "code",
      "source": [
        "#News articles per category\n",
        "df['Category'].value_counts()"
      ],
      "metadata": {
        "colab": {
          "base_uri": "https://localhost:8080/"
        },
        "id": "wiPHofrIblLc",
        "outputId": "e9d2b1dc-620d-4d3e-ba65-e31f2a20dfa7"
      },
      "execution_count": null,
      "outputs": [
        {
          "output_type": "execute_result",
          "data": {
            "text/plain": [
              "Sports           511\n",
              "Business         510\n",
              "Politics         417\n",
              "Technology       401\n",
              "Entertainment    386\n",
              "Name: Category, dtype: int64"
            ]
          },
          "metadata": {},
          "execution_count": 8
        }
      ]
    },
    {
      "cell_type": "markdown",
      "source": [
        "# 3. Process Textual Data"
      ],
      "metadata": {
        "id": "rMYDLkUVggDA"
      }
    },
    {
      "cell_type": "code",
      "source": [
        "def clean_text(text):\n",
        "  '''preprocess function for text'''\n",
        "\n",
        "  #convert to lower case\n",
        "  text = text.lower()\n",
        "\n",
        "  # remove puctuations\n",
        "  punctuations = string.punctuation\n",
        "  text = text.translate(str.maketrans('', '', punctuations))\n",
        "\n",
        "  # remove special characters & numbers\n",
        "  text = re.sub('[^a-zA-Z]', ' ', text)\n",
        "  text = re.sub('\\s+', ' ', text)\n",
        "\n",
        "  #tokenize text\n",
        "  word_tokens = nltk.word_tokenize(text)\n",
        "\n",
        "  #remove stopwords\n",
        "  stop_word = stopwords.words('english')\n",
        "  clean_wd =  [word for word in word_tokens if word not in stop_word]\n",
        "\n",
        "  # Lemmatize words\n",
        "  lemmatizer = WordNetLemmatizer()\n",
        "\n",
        "  words =[lemmatizer.lemmatize(word) for word in clean_wd]\n",
        "\n",
        "  return words\n"
      ],
      "metadata": {
        "id": "dblTHlglcNlI"
      },
      "execution_count": null,
      "outputs": []
    },
    {
      "cell_type": "code",
      "source": [
        "df[\"cleaned\"] = df[\"Article\"].apply(lambda text: clean_text(text))\n",
        "df.head()"
      ],
      "metadata": {
        "colab": {
          "base_uri": "https://localhost:8080/",
          "height": 206
        },
        "id": "ef8DVHiDcS1w",
        "outputId": "eabcad65-cd57-4bc0-9ac5-9dfe25d04a69"
      },
      "execution_count": null,
      "outputs": [
        {
          "output_type": "execute_result",
          "data": {
            "text/plain": [
              "        Category                                            Article  \\\n",
              "0     Technology  tv future in the hands of viewers with home th...   \n",
              "1       Business  worldcom boss  left books alone  former worldc...   \n",
              "2         Sports  tigers wary of farrell  gamble  leicester say ...   \n",
              "3         Sports  yeading face newcastle in fa cup premiership s...   \n",
              "4  Entertainment  ocean s twelve raids box office ocean s twelve...   \n",
              "\n",
              "                                             cleaned  \n",
              "0  [tv, future, hand, viewer, home, theatre, syst...  \n",
              "1  [worldcom, bos, left, book, alone, former, wor...  \n",
              "2  [tiger, wary, farrell, gamble, leicester, say,...  \n",
              "3  [yeading, face, newcastle, fa, cup, premiershi...  \n",
              "4  [ocean, twelve, raid, box, office, ocean, twel...  "
            ],
            "text/html": [
              "\n",
              "  <div id=\"df-e40207db-b685-4180-a7ca-419d610766f6\" class=\"colab-df-container\">\n",
              "    <div>\n",
              "<style scoped>\n",
              "    .dataframe tbody tr th:only-of-type {\n",
              "        vertical-align: middle;\n",
              "    }\n",
              "\n",
              "    .dataframe tbody tr th {\n",
              "        vertical-align: top;\n",
              "    }\n",
              "\n",
              "    .dataframe thead th {\n",
              "        text-align: right;\n",
              "    }\n",
              "</style>\n",
              "<table border=\"1\" class=\"dataframe\">\n",
              "  <thead>\n",
              "    <tr style=\"text-align: right;\">\n",
              "      <th></th>\n",
              "      <th>Category</th>\n",
              "      <th>Article</th>\n",
              "      <th>cleaned</th>\n",
              "    </tr>\n",
              "  </thead>\n",
              "  <tbody>\n",
              "    <tr>\n",
              "      <th>0</th>\n",
              "      <td>Technology</td>\n",
              "      <td>tv future in the hands of viewers with home th...</td>\n",
              "      <td>[tv, future, hand, viewer, home, theatre, syst...</td>\n",
              "    </tr>\n",
              "    <tr>\n",
              "      <th>1</th>\n",
              "      <td>Business</td>\n",
              "      <td>worldcom boss  left books alone  former worldc...</td>\n",
              "      <td>[worldcom, bos, left, book, alone, former, wor...</td>\n",
              "    </tr>\n",
              "    <tr>\n",
              "      <th>2</th>\n",
              "      <td>Sports</td>\n",
              "      <td>tigers wary of farrell  gamble  leicester say ...</td>\n",
              "      <td>[tiger, wary, farrell, gamble, leicester, say,...</td>\n",
              "    </tr>\n",
              "    <tr>\n",
              "      <th>3</th>\n",
              "      <td>Sports</td>\n",
              "      <td>yeading face newcastle in fa cup premiership s...</td>\n",
              "      <td>[yeading, face, newcastle, fa, cup, premiershi...</td>\n",
              "    </tr>\n",
              "    <tr>\n",
              "      <th>4</th>\n",
              "      <td>Entertainment</td>\n",
              "      <td>ocean s twelve raids box office ocean s twelve...</td>\n",
              "      <td>[ocean, twelve, raid, box, office, ocean, twel...</td>\n",
              "    </tr>\n",
              "  </tbody>\n",
              "</table>\n",
              "</div>\n",
              "    <div class=\"colab-df-buttons\">\n",
              "\n",
              "  <div class=\"colab-df-container\">\n",
              "    <button class=\"colab-df-convert\" onclick=\"convertToInteractive('df-e40207db-b685-4180-a7ca-419d610766f6')\"\n",
              "            title=\"Convert this dataframe to an interactive table.\"\n",
              "            style=\"display:none;\">\n",
              "\n",
              "  <svg xmlns=\"http://www.w3.org/2000/svg\" height=\"24px\" viewBox=\"0 -960 960 960\">\n",
              "    <path d=\"M120-120v-720h720v720H120Zm60-500h600v-160H180v160Zm220 220h160v-160H400v160Zm0 220h160v-160H400v160ZM180-400h160v-160H180v160Zm440 0h160v-160H620v160ZM180-180h160v-160H180v160Zm440 0h160v-160H620v160Z\"/>\n",
              "  </svg>\n",
              "    </button>\n",
              "\n",
              "  <style>\n",
              "    .colab-df-container {\n",
              "      display:flex;\n",
              "      gap: 12px;\n",
              "    }\n",
              "\n",
              "    .colab-df-convert {\n",
              "      background-color: #E8F0FE;\n",
              "      border: none;\n",
              "      border-radius: 50%;\n",
              "      cursor: pointer;\n",
              "      display: none;\n",
              "      fill: #1967D2;\n",
              "      height: 32px;\n",
              "      padding: 0 0 0 0;\n",
              "      width: 32px;\n",
              "    }\n",
              "\n",
              "    .colab-df-convert:hover {\n",
              "      background-color: #E2EBFA;\n",
              "      box-shadow: 0px 1px 2px rgba(60, 64, 67, 0.3), 0px 1px 3px 1px rgba(60, 64, 67, 0.15);\n",
              "      fill: #174EA6;\n",
              "    }\n",
              "\n",
              "    .colab-df-buttons div {\n",
              "      margin-bottom: 4px;\n",
              "    }\n",
              "\n",
              "    [theme=dark] .colab-df-convert {\n",
              "      background-color: #3B4455;\n",
              "      fill: #D2E3FC;\n",
              "    }\n",
              "\n",
              "    [theme=dark] .colab-df-convert:hover {\n",
              "      background-color: #434B5C;\n",
              "      box-shadow: 0px 1px 3px 1px rgba(0, 0, 0, 0.15);\n",
              "      filter: drop-shadow(0px 1px 2px rgba(0, 0, 0, 0.3));\n",
              "      fill: #FFFFFF;\n",
              "    }\n",
              "  </style>\n",
              "\n",
              "    <script>\n",
              "      const buttonEl =\n",
              "        document.querySelector('#df-e40207db-b685-4180-a7ca-419d610766f6 button.colab-df-convert');\n",
              "      buttonEl.style.display =\n",
              "        google.colab.kernel.accessAllowed ? 'block' : 'none';\n",
              "\n",
              "      async function convertToInteractive(key) {\n",
              "        const element = document.querySelector('#df-e40207db-b685-4180-a7ca-419d610766f6');\n",
              "        const dataTable =\n",
              "          await google.colab.kernel.invokeFunction('convertToInteractive',\n",
              "                                                    [key], {});\n",
              "        if (!dataTable) return;\n",
              "\n",
              "        const docLinkHtml = 'Like what you see? Visit the ' +\n",
              "          '<a target=\"_blank\" href=https://colab.research.google.com/notebooks/data_table.ipynb>data table notebook</a>'\n",
              "          + ' to learn more about interactive tables.';\n",
              "        element.innerHTML = '';\n",
              "        dataTable['output_type'] = 'display_data';\n",
              "        await google.colab.output.renderOutput(dataTable, element);\n",
              "        const docLink = document.createElement('div');\n",
              "        docLink.innerHTML = docLinkHtml;\n",
              "        element.appendChild(docLink);\n",
              "      }\n",
              "    </script>\n",
              "  </div>\n",
              "\n",
              "\n",
              "<div id=\"df-6919af14-4e96-463e-b299-7c1b5b0ae3a9\">\n",
              "  <button class=\"colab-df-quickchart\" onclick=\"quickchart('df-6919af14-4e96-463e-b299-7c1b5b0ae3a9')\"\n",
              "            title=\"Suggest charts.\"\n",
              "            style=\"display:none;\">\n",
              "\n",
              "<svg xmlns=\"http://www.w3.org/2000/svg\" height=\"24px\"viewBox=\"0 0 24 24\"\n",
              "     width=\"24px\">\n",
              "    <g>\n",
              "        <path d=\"M19 3H5c-1.1 0-2 .9-2 2v14c0 1.1.9 2 2 2h14c1.1 0 2-.9 2-2V5c0-1.1-.9-2-2-2zM9 17H7v-7h2v7zm4 0h-2V7h2v10zm4 0h-2v-4h2v4z\"/>\n",
              "    </g>\n",
              "</svg>\n",
              "  </button>\n",
              "\n",
              "<style>\n",
              "  .colab-df-quickchart {\n",
              "      --bg-color: #E8F0FE;\n",
              "      --fill-color: #1967D2;\n",
              "      --hover-bg-color: #E2EBFA;\n",
              "      --hover-fill-color: #174EA6;\n",
              "      --disabled-fill-color: #AAA;\n",
              "      --disabled-bg-color: #DDD;\n",
              "  }\n",
              "\n",
              "  [theme=dark] .colab-df-quickchart {\n",
              "      --bg-color: #3B4455;\n",
              "      --fill-color: #D2E3FC;\n",
              "      --hover-bg-color: #434B5C;\n",
              "      --hover-fill-color: #FFFFFF;\n",
              "      --disabled-bg-color: #3B4455;\n",
              "      --disabled-fill-color: #666;\n",
              "  }\n",
              "\n",
              "  .colab-df-quickchart {\n",
              "    background-color: var(--bg-color);\n",
              "    border: none;\n",
              "    border-radius: 50%;\n",
              "    cursor: pointer;\n",
              "    display: none;\n",
              "    fill: var(--fill-color);\n",
              "    height: 32px;\n",
              "    padding: 0;\n",
              "    width: 32px;\n",
              "  }\n",
              "\n",
              "  .colab-df-quickchart:hover {\n",
              "    background-color: var(--hover-bg-color);\n",
              "    box-shadow: 0 1px 2px rgba(60, 64, 67, 0.3), 0 1px 3px 1px rgba(60, 64, 67, 0.15);\n",
              "    fill: var(--button-hover-fill-color);\n",
              "  }\n",
              "\n",
              "  .colab-df-quickchart-complete:disabled,\n",
              "  .colab-df-quickchart-complete:disabled:hover {\n",
              "    background-color: var(--disabled-bg-color);\n",
              "    fill: var(--disabled-fill-color);\n",
              "    box-shadow: none;\n",
              "  }\n",
              "\n",
              "  .colab-df-spinner {\n",
              "    border: 2px solid var(--fill-color);\n",
              "    border-color: transparent;\n",
              "    border-bottom-color: var(--fill-color);\n",
              "    animation:\n",
              "      spin 1s steps(1) infinite;\n",
              "  }\n",
              "\n",
              "  @keyframes spin {\n",
              "    0% {\n",
              "      border-color: transparent;\n",
              "      border-bottom-color: var(--fill-color);\n",
              "      border-left-color: var(--fill-color);\n",
              "    }\n",
              "    20% {\n",
              "      border-color: transparent;\n",
              "      border-left-color: var(--fill-color);\n",
              "      border-top-color: var(--fill-color);\n",
              "    }\n",
              "    30% {\n",
              "      border-color: transparent;\n",
              "      border-left-color: var(--fill-color);\n",
              "      border-top-color: var(--fill-color);\n",
              "      border-right-color: var(--fill-color);\n",
              "    }\n",
              "    40% {\n",
              "      border-color: transparent;\n",
              "      border-right-color: var(--fill-color);\n",
              "      border-top-color: var(--fill-color);\n",
              "    }\n",
              "    60% {\n",
              "      border-color: transparent;\n",
              "      border-right-color: var(--fill-color);\n",
              "    }\n",
              "    80% {\n",
              "      border-color: transparent;\n",
              "      border-right-color: var(--fill-color);\n",
              "      border-bottom-color: var(--fill-color);\n",
              "    }\n",
              "    90% {\n",
              "      border-color: transparent;\n",
              "      border-bottom-color: var(--fill-color);\n",
              "    }\n",
              "  }\n",
              "</style>\n",
              "\n",
              "  <script>\n",
              "    async function quickchart(key) {\n",
              "      const quickchartButtonEl =\n",
              "        document.querySelector('#' + key + ' button');\n",
              "      quickchartButtonEl.disabled = true;  // To prevent multiple clicks.\n",
              "      quickchartButtonEl.classList.add('colab-df-spinner');\n",
              "      try {\n",
              "        const charts = await google.colab.kernel.invokeFunction(\n",
              "            'suggestCharts', [key], {});\n",
              "      } catch (error) {\n",
              "        console.error('Error during call to suggestCharts:', error);\n",
              "      }\n",
              "      quickchartButtonEl.classList.remove('colab-df-spinner');\n",
              "      quickchartButtonEl.classList.add('colab-df-quickchart-complete');\n",
              "    }\n",
              "    (() => {\n",
              "      let quickchartButtonEl =\n",
              "        document.querySelector('#df-6919af14-4e96-463e-b299-7c1b5b0ae3a9 button');\n",
              "      quickchartButtonEl.style.display =\n",
              "        google.colab.kernel.accessAllowed ? 'block' : 'none';\n",
              "    })();\n",
              "  </script>\n",
              "</div>\n",
              "    </div>\n",
              "  </div>\n"
            ]
          },
          "metadata": {},
          "execution_count": 10
        }
      ]
    },
    {
      "cell_type": "code",
      "source": [
        "df['Article'][0]"
      ],
      "metadata": {
        "colab": {
          "base_uri": "https://localhost:8080/",
          "height": 192
        },
        "id": "C6DiD_4UfNgE",
        "outputId": "15c788e1-0b83-46e8-8550-21432d003673"
      },
      "execution_count": null,
      "outputs": [
        {
          "output_type": "execute_result",
          "data": {
            "text/plain": [
              "'tv future in the hands of viewers with home theatre systems  plasma high-definition tvs  and digital video recorders moving into the living room  the way people watch tv will be radically different in five years  time.  that is according to an expert panel which gathered at the annual consumer electronics show in las vegas to discuss how these new technologies will impact one of our favourite pastimes. with the us leading the trend  programmes and other content will be delivered to viewers via home networks  through cable  satellite  telecoms companies  and broadband service providers to front rooms and portable devices.  one of the most talked-about technologies of ces has been digital and personal video recorders (dvr and pvr). these set-top boxes  like the us s tivo and the uk s sky+ system  allow people to record  store  play  pause and forward wind tv programmes when they want.  essentially  the technology allows for much more personalised tv. they are also being built-in to high-definition tv sets  which are big business in japan and the us  but slower to take off in europe because of the lack of high-definition programming. not only can people forward wind through adverts  they can also forget about abiding by network and channel schedules  putting together their own a-la-carte entertainment. but some us networks and cable and satellite companies are worried about what it means for them in terms of advertising revenues as well as  brand identity  and viewer loyalty to channels. although the us leads in this technology at the moment  it is also a concern that is being raised in europe  particularly with the growing uptake of services like sky+.  what happens here today  we will see in nine months to a years  time in the uk   adam hume  the bbc broadcast s futurologist told the bbc news website. for the likes of the bbc  there are no issues of lost advertising revenue yet. it is a more pressing issue at the moment for commercial uk broadcasters  but brand loyalty is important for everyone.  we will be talking more about content brands rather than network brands   said tim hanlon  from brand communications firm starcom mediavest.  the reality is that with broadband connections  anybody can be the producer of content.  he added:  the challenge now is that it is hard to promote a programme with so much choice.   what this means  said stacey jolna  senior vice president of tv guide tv group  is that the way people find the content they want to watch has to be simplified for tv viewers. it means that networks  in us terms  or channels could take a leaf out of google s book and be the search engine of the future  instead of the scheduler to help people find what they want to watch. this kind of channel model might work for the younger ipod generation which is used to taking control of their gadgets and what they play on them. but it might not suit everyone  the panel recognised. older generations are more comfortable with familiar schedules and channel brands because they know what they are getting. they perhaps do not want so much of the choice put into their hands  mr hanlon suggested.  on the other end  you have the kids just out of diapers who are pushing buttons already - everything is possible and available to them   said mr hanlon.  ultimately  the consumer will tell the market they want.   of the 50 000 new gadgets and technologies being showcased at ces  many of them are about enhancing the tv-watching experience. high-definition tv sets are everywhere and many new models of lcd (liquid crystal display) tvs have been launched with dvr capability built into them  instead of being external boxes. one such example launched at the show is humax s 26-inch lcd tv with an 80-hour tivo dvr and dvd recorder. one of the us s biggest satellite tv companies  directtv  has even launched its own branded dvr at the show with 100-hours of recording capability  instant replay  and a search function. the set can pause and rewind tv for up to 90 hours. and microsoft chief bill gates announced in his pre-show keynote speech a partnership with tivo  called tivotogo  which means people can play recorded programmes on windows pcs and mobile devices. all these reflect the increasing trend of freeing up multimedia so that people can watch what they want  when they want.'"
            ],
            "application/vnd.google.colaboratory.intrinsic+json": {
              "type": "string"
            }
          },
          "metadata": {},
          "execution_count": 11
        }
      ]
    },
    {
      "cell_type": "code",
      "source": [
        "df['cleaned'][0]"
      ],
      "metadata": {
        "colab": {
          "base_uri": "https://localhost:8080/"
        },
        "id": "CEDkHGvkfR3C",
        "outputId": "1d893686-081c-4d02-8d07-364efab363b7"
      },
      "execution_count": null,
      "outputs": [
        {
          "output_type": "execute_result",
          "data": {
            "text/plain": [
              "['tv',\n",
              " 'future',\n",
              " 'hand',\n",
              " 'viewer',\n",
              " 'home',\n",
              " 'theatre',\n",
              " 'system',\n",
              " 'plasma',\n",
              " 'highdefinition',\n",
              " 'tv',\n",
              " 'digital',\n",
              " 'video',\n",
              " 'recorder',\n",
              " 'moving',\n",
              " 'living',\n",
              " 'room',\n",
              " 'way',\n",
              " 'people',\n",
              " 'watch',\n",
              " 'tv',\n",
              " 'radically',\n",
              " 'different',\n",
              " 'five',\n",
              " 'year',\n",
              " 'time',\n",
              " 'according',\n",
              " 'expert',\n",
              " 'panel',\n",
              " 'gathered',\n",
              " 'annual',\n",
              " 'consumer',\n",
              " 'electronics',\n",
              " 'show',\n",
              " 'la',\n",
              " 'vega',\n",
              " 'discus',\n",
              " 'new',\n",
              " 'technology',\n",
              " 'impact',\n",
              " 'one',\n",
              " 'favourite',\n",
              " 'pastime',\n",
              " 'u',\n",
              " 'leading',\n",
              " 'trend',\n",
              " 'programme',\n",
              " 'content',\n",
              " 'delivered',\n",
              " 'viewer',\n",
              " 'via',\n",
              " 'home',\n",
              " 'network',\n",
              " 'cable',\n",
              " 'satellite',\n",
              " 'telecom',\n",
              " 'company',\n",
              " 'broadband',\n",
              " 'service',\n",
              " 'provider',\n",
              " 'front',\n",
              " 'room',\n",
              " 'portable',\n",
              " 'device',\n",
              " 'one',\n",
              " 'talkedabout',\n",
              " 'technology',\n",
              " 'ce',\n",
              " 'digital',\n",
              " 'personal',\n",
              " 'video',\n",
              " 'recorder',\n",
              " 'dvr',\n",
              " 'pvr',\n",
              " 'settop',\n",
              " 'box',\n",
              " 'like',\n",
              " 'u',\n",
              " 'tivo',\n",
              " 'uk',\n",
              " 'sky',\n",
              " 'system',\n",
              " 'allow',\n",
              " 'people',\n",
              " 'record',\n",
              " 'store',\n",
              " 'play',\n",
              " 'pause',\n",
              " 'forward',\n",
              " 'wind',\n",
              " 'tv',\n",
              " 'programme',\n",
              " 'want',\n",
              " 'essentially',\n",
              " 'technology',\n",
              " 'allows',\n",
              " 'much',\n",
              " 'personalised',\n",
              " 'tv',\n",
              " 'also',\n",
              " 'builtin',\n",
              " 'highdefinition',\n",
              " 'tv',\n",
              " 'set',\n",
              " 'big',\n",
              " 'business',\n",
              " 'japan',\n",
              " 'u',\n",
              " 'slower',\n",
              " 'take',\n",
              " 'europe',\n",
              " 'lack',\n",
              " 'highdefinition',\n",
              " 'programming',\n",
              " 'people',\n",
              " 'forward',\n",
              " 'wind',\n",
              " 'advert',\n",
              " 'also',\n",
              " 'forget',\n",
              " 'abiding',\n",
              " 'network',\n",
              " 'channel',\n",
              " 'schedule',\n",
              " 'putting',\n",
              " 'together',\n",
              " 'alacarte',\n",
              " 'entertainment',\n",
              " 'u',\n",
              " 'network',\n",
              " 'cable',\n",
              " 'satellite',\n",
              " 'company',\n",
              " 'worried',\n",
              " 'mean',\n",
              " 'term',\n",
              " 'advertising',\n",
              " 'revenue',\n",
              " 'well',\n",
              " 'brand',\n",
              " 'identity',\n",
              " 'viewer',\n",
              " 'loyalty',\n",
              " 'channel',\n",
              " 'although',\n",
              " 'u',\n",
              " 'lead',\n",
              " 'technology',\n",
              " 'moment',\n",
              " 'also',\n",
              " 'concern',\n",
              " 'raised',\n",
              " 'europe',\n",
              " 'particularly',\n",
              " 'growing',\n",
              " 'uptake',\n",
              " 'service',\n",
              " 'like',\n",
              " 'sky',\n",
              " 'happens',\n",
              " 'today',\n",
              " 'see',\n",
              " 'nine',\n",
              " 'month',\n",
              " 'year',\n",
              " 'time',\n",
              " 'uk',\n",
              " 'adam',\n",
              " 'hume',\n",
              " 'bbc',\n",
              " 'broadcast',\n",
              " 'futurologist',\n",
              " 'told',\n",
              " 'bbc',\n",
              " 'news',\n",
              " 'website',\n",
              " 'like',\n",
              " 'bbc',\n",
              " 'issue',\n",
              " 'lost',\n",
              " 'advertising',\n",
              " 'revenue',\n",
              " 'yet',\n",
              " 'pressing',\n",
              " 'issue',\n",
              " 'moment',\n",
              " 'commercial',\n",
              " 'uk',\n",
              " 'broadcaster',\n",
              " 'brand',\n",
              " 'loyalty',\n",
              " 'important',\n",
              " 'everyone',\n",
              " 'talking',\n",
              " 'content',\n",
              " 'brand',\n",
              " 'rather',\n",
              " 'network',\n",
              " 'brand',\n",
              " 'said',\n",
              " 'tim',\n",
              " 'hanlon',\n",
              " 'brand',\n",
              " 'communication',\n",
              " 'firm',\n",
              " 'starcom',\n",
              " 'mediavest',\n",
              " 'reality',\n",
              " 'broadband',\n",
              " 'connection',\n",
              " 'anybody',\n",
              " 'producer',\n",
              " 'content',\n",
              " 'added',\n",
              " 'challenge',\n",
              " 'hard',\n",
              " 'promote',\n",
              " 'programme',\n",
              " 'much',\n",
              " 'choice',\n",
              " 'mean',\n",
              " 'said',\n",
              " 'stacey',\n",
              " 'jolna',\n",
              " 'senior',\n",
              " 'vice',\n",
              " 'president',\n",
              " 'tv',\n",
              " 'guide',\n",
              " 'tv',\n",
              " 'group',\n",
              " 'way',\n",
              " 'people',\n",
              " 'find',\n",
              " 'content',\n",
              " 'want',\n",
              " 'watch',\n",
              " 'simplified',\n",
              " 'tv',\n",
              " 'viewer',\n",
              " 'mean',\n",
              " 'network',\n",
              " 'u',\n",
              " 'term',\n",
              " 'channel',\n",
              " 'could',\n",
              " 'take',\n",
              " 'leaf',\n",
              " 'google',\n",
              " 'book',\n",
              " 'search',\n",
              " 'engine',\n",
              " 'future',\n",
              " 'instead',\n",
              " 'scheduler',\n",
              " 'help',\n",
              " 'people',\n",
              " 'find',\n",
              " 'want',\n",
              " 'watch',\n",
              " 'kind',\n",
              " 'channel',\n",
              " 'model',\n",
              " 'might',\n",
              " 'work',\n",
              " 'younger',\n",
              " 'ipod',\n",
              " 'generation',\n",
              " 'used',\n",
              " 'taking',\n",
              " 'control',\n",
              " 'gadget',\n",
              " 'play',\n",
              " 'might',\n",
              " 'suit',\n",
              " 'everyone',\n",
              " 'panel',\n",
              " 'recognised',\n",
              " 'older',\n",
              " 'generation',\n",
              " 'comfortable',\n",
              " 'familiar',\n",
              " 'schedule',\n",
              " 'channel',\n",
              " 'brand',\n",
              " 'know',\n",
              " 'getting',\n",
              " 'perhaps',\n",
              " 'want',\n",
              " 'much',\n",
              " 'choice',\n",
              " 'put',\n",
              " 'hand',\n",
              " 'mr',\n",
              " 'hanlon',\n",
              " 'suggested',\n",
              " 'end',\n",
              " 'kid',\n",
              " 'diaper',\n",
              " 'pushing',\n",
              " 'button',\n",
              " 'already',\n",
              " 'everything',\n",
              " 'possible',\n",
              " 'available',\n",
              " 'said',\n",
              " 'mr',\n",
              " 'hanlon',\n",
              " 'ultimately',\n",
              " 'consumer',\n",
              " 'tell',\n",
              " 'market',\n",
              " 'want',\n",
              " 'new',\n",
              " 'gadget',\n",
              " 'technology',\n",
              " 'showcased',\n",
              " 'ce',\n",
              " 'many',\n",
              " 'enhancing',\n",
              " 'tvwatching',\n",
              " 'experience',\n",
              " 'highdefinition',\n",
              " 'tv',\n",
              " 'set',\n",
              " 'everywhere',\n",
              " 'many',\n",
              " 'new',\n",
              " 'model',\n",
              " 'lcd',\n",
              " 'liquid',\n",
              " 'crystal',\n",
              " 'display',\n",
              " 'tv',\n",
              " 'launched',\n",
              " 'dvr',\n",
              " 'capability',\n",
              " 'built',\n",
              " 'instead',\n",
              " 'external',\n",
              " 'box',\n",
              " 'one',\n",
              " 'example',\n",
              " 'launched',\n",
              " 'show',\n",
              " 'humax',\n",
              " 'inch',\n",
              " 'lcd',\n",
              " 'tv',\n",
              " 'hour',\n",
              " 'tivo',\n",
              " 'dvr',\n",
              " 'dvd',\n",
              " 'recorder',\n",
              " 'one',\n",
              " 'u',\n",
              " 'biggest',\n",
              " 'satellite',\n",
              " 'tv',\n",
              " 'company',\n",
              " 'directtv',\n",
              " 'even',\n",
              " 'launched',\n",
              " 'branded',\n",
              " 'dvr',\n",
              " 'show',\n",
              " 'hour',\n",
              " 'recording',\n",
              " 'capability',\n",
              " 'instant',\n",
              " 'replay',\n",
              " 'search',\n",
              " 'function',\n",
              " 'set',\n",
              " 'pause',\n",
              " 'rewind',\n",
              " 'tv',\n",
              " 'hour',\n",
              " 'microsoft',\n",
              " 'chief',\n",
              " 'bill',\n",
              " 'gate',\n",
              " 'announced',\n",
              " 'preshow',\n",
              " 'keynote',\n",
              " 'speech',\n",
              " 'partnership',\n",
              " 'tivo',\n",
              " 'called',\n",
              " 'tivotogo',\n",
              " 'mean',\n",
              " 'people',\n",
              " 'play',\n",
              " 'recorded',\n",
              " 'programme',\n",
              " 'window',\n",
              " 'pc',\n",
              " 'mobile',\n",
              " 'device',\n",
              " 'reflect',\n",
              " 'increasing',\n",
              " 'trend',\n",
              " 'freeing',\n",
              " 'multimedia',\n",
              " 'people',\n",
              " 'watch',\n",
              " 'want',\n",
              " 'want']"
            ]
          },
          "metadata": {},
          "execution_count": 12
        }
      ]
    },
    {
      "cell_type": "markdown",
      "source": [
        "# 4. Encode and Transform data"
      ],
      "metadata": {
        "id": "jWZRUE6AhEHv"
      }
    },
    {
      "cell_type": "code",
      "source": [
        "le = preprocessing.LabelEncoder()\n",
        "\n",
        "# Encode labels target column 'Category'.\n",
        "df['Category']= le.fit_transform(df['Category'])\n",
        "\n",
        "#https://stackoverflow.com/questions/42196589/any-way-to-get-mappings-of-a-label-encoder-in-python-pandas\n",
        "le_map = dict(zip(le.classes_, le.transform(le.classes_)))\n",
        "print(le_map)"
      ],
      "metadata": {
        "colab": {
          "base_uri": "https://localhost:8080/"
        },
        "id": "L2gwVkJdhP5U",
        "outputId": "e98b4435-d9cb-4a43-bd85-7484e7ad216a"
      },
      "execution_count": null,
      "outputs": [
        {
          "output_type": "stream",
          "name": "stdout",
          "text": [
            "{'Business': 0, 'Entertainment': 1, 'Politics': 2, 'Sports': 3, 'Technology': 4}\n"
          ]
        }
      ]
    },
    {
      "cell_type": "markdown",
      "source": [
        "# Create text features for BOW , TFIDF"
      ],
      "metadata": {
        "id": "HZ2YAYsRlyi6"
      }
    },
    {
      "cell_type": "code",
      "source": [
        "def make_vect(text,type):\n",
        "  '''create feature vector using bow/tfidf '''\n",
        "  if type == 'bow':\n",
        "    vectorizer = CountVectorizer()\n",
        "    X = vectorizer.fit_transform(text.astype(str))\n",
        "  elif type == 'tfidf':\n",
        "    #https://www.analyticsvidhya.com/blog/2021/09/creating-a-movie-reviews-classifier-using-tf-idf-in-python/\n",
        "    # create tfidf object\n",
        "    tfidf = TfidfVectorizer()\n",
        "    # get tf-df values\n",
        "    X = tfidf.fit_transform(text.astype(str))\n",
        "  else:\n",
        "    print(\"invalid parameter\")\n",
        "\n",
        "  return X"
      ],
      "metadata": {
        "id": "2phX-TB2lm4S"
      },
      "execution_count": null,
      "outputs": []
    },
    {
      "cell_type": "code",
      "source": [
        "result = make_vect(df['cleaned'],'tfidf')\n",
        "result"
      ],
      "metadata": {
        "colab": {
          "base_uri": "https://localhost:8080/"
        },
        "id": "TKPKWdy-S5BE",
        "outputId": "477fab68-129b-4297-e326-08c779814364"
      },
      "execution_count": null,
      "outputs": [
        {
          "output_type": "execute_result",
          "data": {
            "text/plain": [
              "<2225x27154 sparse matrix of type '<class 'numpy.float64'>'\n",
              "\twith 326439 stored elements in Compressed Sparse Row format>"
            ]
          },
          "metadata": {},
          "execution_count": 15
        }
      ]
    },
    {
      "cell_type": "code",
      "source": [
        "#https://saturncloud.io/blog/how-to-use-sklearn-traintestsplit-on-pandas-stratify-by-multiple-columns/\n",
        "# Define the features and target\n",
        "X=result\n",
        "y = df['Category']\n",
        "\n",
        "# Split the data into training and testing sets stratified by multiple columns\n",
        "X_train, X_test, y_train, y_test = train_test_split(\n",
        "    X,\n",
        "    y,\n",
        "    test_size=0.25,\n",
        "    random_state=42,\n",
        "    stratify=df[['Category']]\n",
        ")"
      ],
      "metadata": {
        "id": "7SAjQ20mbRQm"
      },
      "execution_count": null,
      "outputs": []
    },
    {
      "cell_type": "code",
      "source": [
        "X_train.shape,X_test.shape"
      ],
      "metadata": {
        "colab": {
          "base_uri": "https://localhost:8080/"
        },
        "id": "QgEVENl1n04P",
        "outputId": "11d9c2ee-65fb-4ebf-9f03-89e76c88d053"
      },
      "execution_count": null,
      "outputs": [
        {
          "output_type": "execute_result",
          "data": {
            "text/plain": [
              "((1668, 27154), (557, 27154))"
            ]
          },
          "metadata": {},
          "execution_count": 17
        }
      ]
    },
    {
      "cell_type": "markdown",
      "source": [
        "# 5. Model Training & Evaluation"
      ],
      "metadata": {
        "id": "4Rcu1HCreMlD"
      }
    },
    {
      "cell_type": "code",
      "source": [
        "#naive bayes classifier\n",
        "naive_bayes_classifier = MultinomialNB()\n",
        "naive_bayes_classifier.fit( X_train,  y_train )"
      ],
      "metadata": {
        "colab": {
          "base_uri": "https://localhost:8080/",
          "height": 74
        },
        "id": "chYPG90Oe7nz",
        "outputId": "fd861584-92bb-4ce9-bf13-02760a792e86"
      },
      "execution_count": null,
      "outputs": [
        {
          "output_type": "execute_result",
          "data": {
            "text/plain": [
              "MultinomialNB()"
            ],
            "text/html": [
              "<style>#sk-container-id-1 {color: black;background-color: white;}#sk-container-id-1 pre{padding: 0;}#sk-container-id-1 div.sk-toggleable {background-color: white;}#sk-container-id-1 label.sk-toggleable__label {cursor: pointer;display: block;width: 100%;margin-bottom: 0;padding: 0.3em;box-sizing: border-box;text-align: center;}#sk-container-id-1 label.sk-toggleable__label-arrow:before {content: \"▸\";float: left;margin-right: 0.25em;color: #696969;}#sk-container-id-1 label.sk-toggleable__label-arrow:hover:before {color: black;}#sk-container-id-1 div.sk-estimator:hover label.sk-toggleable__label-arrow:before {color: black;}#sk-container-id-1 div.sk-toggleable__content {max-height: 0;max-width: 0;overflow: hidden;text-align: left;background-color: #f0f8ff;}#sk-container-id-1 div.sk-toggleable__content pre {margin: 0.2em;color: black;border-radius: 0.25em;background-color: #f0f8ff;}#sk-container-id-1 input.sk-toggleable__control:checked~div.sk-toggleable__content {max-height: 200px;max-width: 100%;overflow: auto;}#sk-container-id-1 input.sk-toggleable__control:checked~label.sk-toggleable__label-arrow:before {content: \"▾\";}#sk-container-id-1 div.sk-estimator input.sk-toggleable__control:checked~label.sk-toggleable__label {background-color: #d4ebff;}#sk-container-id-1 div.sk-label input.sk-toggleable__control:checked~label.sk-toggleable__label {background-color: #d4ebff;}#sk-container-id-1 input.sk-hidden--visually {border: 0;clip: rect(1px 1px 1px 1px);clip: rect(1px, 1px, 1px, 1px);height: 1px;margin: -1px;overflow: hidden;padding: 0;position: absolute;width: 1px;}#sk-container-id-1 div.sk-estimator {font-family: monospace;background-color: #f0f8ff;border: 1px dotted black;border-radius: 0.25em;box-sizing: border-box;margin-bottom: 0.5em;}#sk-container-id-1 div.sk-estimator:hover {background-color: #d4ebff;}#sk-container-id-1 div.sk-parallel-item::after {content: \"\";width: 100%;border-bottom: 1px solid gray;flex-grow: 1;}#sk-container-id-1 div.sk-label:hover label.sk-toggleable__label {background-color: #d4ebff;}#sk-container-id-1 div.sk-serial::before {content: \"\";position: absolute;border-left: 1px solid gray;box-sizing: border-box;top: 0;bottom: 0;left: 50%;z-index: 0;}#sk-container-id-1 div.sk-serial {display: flex;flex-direction: column;align-items: center;background-color: white;padding-right: 0.2em;padding-left: 0.2em;position: relative;}#sk-container-id-1 div.sk-item {position: relative;z-index: 1;}#sk-container-id-1 div.sk-parallel {display: flex;align-items: stretch;justify-content: center;background-color: white;position: relative;}#sk-container-id-1 div.sk-item::before, #sk-container-id-1 div.sk-parallel-item::before {content: \"\";position: absolute;border-left: 1px solid gray;box-sizing: border-box;top: 0;bottom: 0;left: 50%;z-index: -1;}#sk-container-id-1 div.sk-parallel-item {display: flex;flex-direction: column;z-index: 1;position: relative;background-color: white;}#sk-container-id-1 div.sk-parallel-item:first-child::after {align-self: flex-end;width: 50%;}#sk-container-id-1 div.sk-parallel-item:last-child::after {align-self: flex-start;width: 50%;}#sk-container-id-1 div.sk-parallel-item:only-child::after {width: 0;}#sk-container-id-1 div.sk-dashed-wrapped {border: 1px dashed gray;margin: 0 0.4em 0.5em 0.4em;box-sizing: border-box;padding-bottom: 0.4em;background-color: white;}#sk-container-id-1 div.sk-label label {font-family: monospace;font-weight: bold;display: inline-block;line-height: 1.2em;}#sk-container-id-1 div.sk-label-container {text-align: center;}#sk-container-id-1 div.sk-container {/* jupyter's `normalize.less` sets `[hidden] { display: none; }` but bootstrap.min.css set `[hidden] { display: none !important; }` so we also need the `!important` here to be able to override the default hidden behavior on the sphinx rendered scikit-learn.org. See: https://github.com/scikit-learn/scikit-learn/issues/21755 */display: inline-block !important;position: relative;}#sk-container-id-1 div.sk-text-repr-fallback {display: none;}</style><div id=\"sk-container-id-1\" class=\"sk-top-container\"><div class=\"sk-text-repr-fallback\"><pre>MultinomialNB()</pre><b>In a Jupyter environment, please rerun this cell to show the HTML representation or trust the notebook. <br />On GitHub, the HTML representation is unable to render, please try loading this page with nbviewer.org.</b></div><div class=\"sk-container\" hidden><div class=\"sk-item\"><div class=\"sk-estimator sk-toggleable\"><input class=\"sk-toggleable__control sk-hidden--visually\" id=\"sk-estimator-id-1\" type=\"checkbox\" checked><label for=\"sk-estimator-id-1\" class=\"sk-toggleable__label sk-toggleable__label-arrow\">MultinomialNB</label><div class=\"sk-toggleable__content\"><pre>MultinomialNB()</pre></div></div></div></div></div>"
            ]
          },
          "metadata": {},
          "execution_count": 18
        }
      ]
    },
    {
      "cell_type": "code",
      "source": [
        "#predicted y\n",
        "y_pred = naive_bayes_classifier.predict(X_test)\n",
        "\n",
        "print(\"Classification matrix:\")\n",
        "print(metrics.classification_report( y_test, y_pred,target_names=le_map.keys()))\n",
        "\n",
        "print(\"Confusion matrix:\")\n",
        "print(metrics.confusion_matrix(y_test, y_pred))\n",
        "\n",
        "print('f1_score:',metrics.f1_score(y_test, y_pred, average=\"macro\"))"
      ],
      "metadata": {
        "id": "ClA9mRxPiwZB",
        "colab": {
          "base_uri": "https://localhost:8080/"
        },
        "outputId": "9875484a-9766-4ded-9fb9-18dfcfdd8af9"
      },
      "execution_count": null,
      "outputs": [
        {
          "output_type": "stream",
          "name": "stdout",
          "text": [
            "Classification matrix:\n",
            "               precision    recall  f1-score   support\n",
            "\n",
            "     Business       0.97      0.98      0.97       128\n",
            "Entertainment       1.00      0.92      0.96        97\n",
            "     Politics       0.92      0.98      0.95       104\n",
            "       Sports       0.99      1.00      1.00       128\n",
            "   Technology       0.98      0.97      0.97       100\n",
            "\n",
            "     accuracy                           0.97       557\n",
            "    macro avg       0.97      0.97      0.97       557\n",
            " weighted avg       0.97      0.97      0.97       557\n",
            "\n",
            "Confusion matrix:\n",
            "[[125   0   2   0   1]\n",
            " [  1  89   6   0   1]\n",
            " [  1   0 102   1   0]\n",
            " [  0   0   0 128   0]\n",
            " [  2   0   1   0  97]]\n",
            "f1_score: 0.9699144847608379\n"
          ]
        }
      ]
    },
    {
      "cell_type": "markdown",
      "source": [
        "# Model Function"
      ],
      "metadata": {
        "id": "N0oPYwp0GsNj"
      }
    },
    {
      "cell_type": "code",
      "source": [
        "def data_model(model,X_train, y_train,X_test, y_test):\n",
        "  pipe = Pipeline([ (\"clf\", 'model' )])\n",
        "  print('classifier:',model)\n",
        "  print('='*30)\n",
        "  pipe.set_params(clf = model)\n",
        "\n",
        "  #fitting data into the model\n",
        "  pipe.fit(X_train, y_train)\n",
        "\n",
        "  # predicting values\n",
        "  y_pred = pipe.predict(X_test)\n",
        "\n",
        "  print(\"Classification matrix:\")\n",
        "  print(metrics.classification_report( y_test, y_pred,target_names=le_map.keys()))\n",
        "\n",
        "  print(\"Confusion matrix:\")\n",
        "  print(metrics.confusion_matrix(y_test, y_pred))\n",
        "\n",
        "  result = pipe.score(X_test, y_test)\n",
        "  print(\"Accuracy: %.2f%%\" % (result*100.0))\n",
        "\n",
        "  #https://stackoverflow.com/questions/31421413/how-to-compute-precision-recall-accuracy-and-f1-score-for-the-multiclass-case\n",
        "  print('f1_score:',metrics.f1_score(y_test, y_pred, average=\"macro\"))\n",
        "\n"
      ],
      "metadata": {
        "id": "I4mdI_0wBwyW"
      },
      "execution_count": null,
      "outputs": []
    },
    {
      "cell_type": "code",
      "source": [
        "data_model(KNeighborsClassifier(n_neighbors=3),X_train, y_train,X_test, y_test)"
      ],
      "metadata": {
        "colab": {
          "base_uri": "https://localhost:8080/"
        },
        "id": "ukkj96I_HMU2",
        "outputId": "e2014059-16da-4bcb-ecae-99539a153a34"
      },
      "execution_count": null,
      "outputs": [
        {
          "output_type": "stream",
          "name": "stdout",
          "text": [
            "classifier: KNeighborsClassifier(n_neighbors=3)\n",
            "==============================\n",
            "Classification matrix:\n",
            "               precision    recall  f1-score   support\n",
            "\n",
            "     Business       0.89      0.91      0.90       128\n",
            "Entertainment       0.97      0.88      0.92        97\n",
            "     Politics       0.84      0.92      0.88       104\n",
            "       Sports       0.98      0.96      0.97       128\n",
            "   Technology       0.92      0.91      0.91       100\n",
            "\n",
            "     accuracy                           0.92       557\n",
            "    macro avg       0.92      0.92      0.92       557\n",
            " weighted avg       0.92      0.92      0.92       557\n",
            "\n",
            "Confusion matrix:\n",
            "[[116   0   9   1   2]\n",
            " [  3  85   4   0   5]\n",
            " [  4   2  96   1   1]\n",
            " [  5   0   0 123   0]\n",
            " [  3   1   5   0  91]]\n",
            "Accuracy: 91.74%\n",
            "f1_score: 0.9164621279515656\n"
          ]
        }
      ]
    },
    {
      "cell_type": "code",
      "source": [
        "data_model(DecisionTreeClassifier(),X_train, y_train,X_test, y_test)"
      ],
      "metadata": {
        "colab": {
          "base_uri": "https://localhost:8080/"
        },
        "id": "xF2PiWidG3x5",
        "outputId": "c7b10462-2fec-4a8f-fd3b-b314a83d071f"
      },
      "execution_count": null,
      "outputs": [
        {
          "output_type": "stream",
          "name": "stdout",
          "text": [
            "classifier: DecisionTreeClassifier()\n",
            "==============================\n",
            "Classification matrix:\n",
            "               precision    recall  f1-score   support\n",
            "\n",
            "     Business       0.82      0.78      0.80       128\n",
            "Entertainment       0.91      0.86      0.88        97\n",
            "     Politics       0.77      0.79      0.78       104\n",
            "       Sports       0.88      0.94      0.91       128\n",
            "   Technology       0.83      0.85      0.84       100\n",
            "\n",
            "     accuracy                           0.84       557\n",
            "    macro avg       0.84      0.84      0.84       557\n",
            " weighted avg       0.84      0.84      0.84       557\n",
            "\n",
            "Confusion matrix:\n",
            "[[100   2  16   4   6]\n",
            " [  3  83   6   1   4]\n",
            " [  7   2  82   8   5]\n",
            " [  3   3   0 120   2]\n",
            " [  9   1   2   3  85]]\n",
            "Accuracy: 84.38%\n",
            "f1_score: 0.8429212343726775\n"
          ]
        }
      ]
    },
    {
      "cell_type": "code",
      "source": [
        "data_model(RandomForestClassifier(),X_train, y_train,X_test, y_test)"
      ],
      "metadata": {
        "colab": {
          "base_uri": "https://localhost:8080/"
        },
        "id": "q5DJSbVIEeKw",
        "outputId": "0fd929a4-9e4b-4b03-908b-1f4a68923a96"
      },
      "execution_count": null,
      "outputs": [
        {
          "output_type": "stream",
          "name": "stdout",
          "text": [
            "classifier: RandomForestClassifier()\n",
            "==============================\n",
            "Classification matrix:\n",
            "               precision    recall  f1-score   support\n",
            "\n",
            "     Business       0.94      0.98      0.96       128\n",
            "Entertainment       0.97      0.95      0.96        97\n",
            "     Politics       0.98      0.94      0.96       104\n",
            "       Sports       0.98      1.00      0.99       128\n",
            "   Technology       0.97      0.95      0.96       100\n",
            "\n",
            "     accuracy                           0.97       557\n",
            "    macro avg       0.97      0.96      0.96       557\n",
            " weighted avg       0.97      0.97      0.97       557\n",
            "\n",
            "Confusion matrix:\n",
            "[[125   0   2   0   1]\n",
            " [  4  92   0   1   0]\n",
            " [  1   1  98   2   2]\n",
            " [  0   0   0 128   0]\n",
            " [  3   2   0   0  95]]\n",
            "Accuracy: 96.59%\n",
            "f1_score: 0.9649970002404078\n"
          ]
        }
      ]
    },
    {
      "cell_type": "markdown",
      "source": [
        "The performance of RandomForest model can be further improved by tuning the model"
      ],
      "metadata": {
        "id": "q_FepKu9tBzS"
      }
    },
    {
      "cell_type": "markdown",
      "source": [
        "# Conclusion\n",
        "\n",
        " F1 metrics of different models are\n",
        "\n",
        "|Model |F1 Score|\n",
        "|-----|-----:|\n",
        "|Naive Bayes |0.9699  |\n",
        "|KNeighborsClassifier|0.9165|\n",
        "|DecisionTreeClassifier |0.8429  |\n",
        "|RandomForestClassifier|0.9645|  \n",
        "\n",
        "The best model is Naive Bayes with F1 score = 0.9699\n",
        "\n"
      ],
      "metadata": {
        "id": "gNi3PTUofDI5"
      }
    },
    {
      "cell_type": "markdown",
      "source": [
        "# Questionnaire:\n",
        "1. How many news articles are present in the dataset that we have?   \n",
        "2225 entries    \n",
        "\n",
        "2. Most of the news articles are from <u>Sports </u>   category      \n",
        "3. Only <u>401</u> no. of articles belong to the ‘Technology’ category   \n",
        "4. What are Stop Words and why should they be removed from the\n",
        "text data?    \n",
        "Stop words are commonly used words in any language. if commonly used words are  removed, we can focus on the important words instead.  \n",
        "\n",
        "5.  Explain the difference between Stemming and Lemmatization.   \n",
        "Stemming truncates word endings without considering linguistic context, so it computationally faster. Lemmatization analyzes word forms to determine the base or dictionary form, which takes more processing time.    \n",
        "\n",
        "6. Which of the techniques Bag of Words or TF-IDF is considered to\n",
        "be more efficient than the other?    \n",
        "TF-IDF is more efficinient since it gives importance to rare words and ignores common words.   \n",
        "\n",
        "7. What’s the shape of train & test data sets after performing a\n",
        "75:25 split.   \n",
        "X_train.shape=(1668, 27154)     \n",
        "X_test.shape= (557, 27154)    \n",
        "8. Which of the following is found to be the best performing model.\n",
        "a. Random Forest\n",
        "b. Nearest Neighbors\n",
        "c. Naive Bayes\n",
        "best model is Naive Bayes with F1 score = 0.9699     \n",
        "\n",
        "9. According to this particular use case, both precision and recall\n",
        "are equally important     \n",
        "True   \n",
        "\n",
        "\n"
      ],
      "metadata": {
        "id": "1kC2besdhGVy"
      }
    }
  ]
}